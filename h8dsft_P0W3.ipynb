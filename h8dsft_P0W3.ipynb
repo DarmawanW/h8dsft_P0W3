{
 "cells": [
  {
   "cell_type": "markdown",
   "source": [
    "# Graded Challenge 3\r\n",
    "## i. Introduction\r\n",
    "Name : Darmawan Wijaya </br>\r\n",
    "Class : FTDS - 002 </br>\r\n",
    "Objective : To apply statistical concept on the dataset to find : </br>\r\n",
    "1. Measure of Central Tendency\r\n",
    "2. Measure of Variance\r\n",
    "3. Confidence Interval\r\n",
    "4. Hypothesis Testing\r\n"
   ],
   "metadata": {}
  },
  {
   "cell_type": "markdown",
   "source": [
    "## ii. Importing Libraries\r\n",
    "In this project, the libraries that we will use are pandas, numpy, scipy, matplotlib and seaborn"
   ],
   "metadata": {}
  },
  {
   "cell_type": "code",
   "execution_count": 1,
   "source": [
    "#The process of importing libraries\r\n",
    "import pandas as pd\r\n",
    "import numpy as np\r\n",
    "import matplotlib.pyplot as plt\r\n",
    "import seaborn as sns\r\n",
    "import scipy.stats as stats\r\n",
    "from scipy.stats import t as t_func\r\n",
    "from scipy.stats import norm\r\n",
    "from scipy.stats import kurtosis\r\n",
    "import random\r\n",
    "%matplotlib inline\r\n",
    "#Additional code to display the float as 3 decimal. Therefore the output will be easier to understood.\r\n",
    "pd.set_option('display.float_format', lambda x: '%.3f' % x)\r\n"
   ],
   "outputs": [],
   "metadata": {}
  },
  {
   "cell_type": "markdown",
   "source": [
    "## iii. Data Loading\r\n",
    "The dataset used in this project are the kickstarter dataset which contain:\r\n",
    "1. Kickstarter ID, Project name & Category\r\n",
    "2. Currency\r\n",
    "3. Fundraising Goal & Pledged\r\n",
    "4. Deadline for crowdfunding\r\n",
    "5. Current state/condition the project is in \r\n",
    "6. etc\r\n",
    "\r\n",
    "The data are collected from Kickstarter Platform and can be found at https://www.kaggle.com/kemical/kickstarter-projects?select=ks-projects-201801.csv"
   ],
   "metadata": {}
  },
  {
   "cell_type": "code",
   "execution_count": 2,
   "source": [
    "#The process of data loading\r\n",
    "df = pd.read_csv(\"GC3.csv\")\r\n",
    "df.info()"
   ],
   "outputs": [
    {
     "output_type": "stream",
     "name": "stdout",
     "text": [
      "<class 'pandas.core.frame.DataFrame'>\n",
      "RangeIndex: 378661 entries, 0 to 378660\n",
      "Data columns (total 15 columns):\n",
      " #   Column            Non-Null Count   Dtype  \n",
      "---  ------            --------------   -----  \n",
      " 0   ID                378661 non-null  int64  \n",
      " 1   name              378657 non-null  object \n",
      " 2   category          378661 non-null  object \n",
      " 3   main_category     378661 non-null  object \n",
      " 4   currency          378661 non-null  object \n",
      " 5   deadline          378661 non-null  object \n",
      " 6   goal              378661 non-null  float64\n",
      " 7   launched          378661 non-null  object \n",
      " 8   pledged           378661 non-null  float64\n",
      " 9   state             378661 non-null  object \n",
      " 10  backers           378661 non-null  int64  \n",
      " 11  country           378661 non-null  object \n",
      " 12  usd pledged       374864 non-null  float64\n",
      " 13  usd_pledged_real  378661 non-null  float64\n",
      " 14  usd_goal_real     378661 non-null  float64\n",
      "dtypes: float64(5), int64(2), object(8)\n",
      "memory usage: 43.3+ MB\n"
     ]
    }
   ],
   "metadata": {}
  },
  {
   "cell_type": "markdown",
   "source": [
    "## iv. Data Cleaning\r\n",
    "The loaded dataset will be cleansed using the following steps:\r\n",
    "1. Removing the rows which contain Null values\r\n",
    "2. Removing the \"ID\" columns which we will not use in this project "
   ],
   "metadata": {}
  },
  {
   "cell_type": "code",
   "execution_count": 3,
   "source": [
    "#The process of dropping null values from dataset and dropping the ID as it will not be used in this project\r\n",
    "kickstarter = df.dropna()\r\n",
    "kickstarter.drop(['ID',], axis=1, inplace=True)"
   ],
   "outputs": [
    {
     "output_type": "stream",
     "name": "stderr",
     "text": [
      "C:\\Users\\Wawan\\anaconda3\\lib\\site-packages\\pandas\\core\\frame.py:4308: SettingWithCopyWarning: \n",
      "A value is trying to be set on a copy of a slice from a DataFrame\n",
      "\n",
      "See the caveats in the documentation: https://pandas.pydata.org/pandas-docs/stable/user_guide/indexing.html#returning-a-view-versus-a-copy\n",
      "  return super().drop(\n"
     ]
    }
   ],
   "metadata": {}
  },
  {
   "cell_type": "markdown",
   "source": [
    "## v. Data Exploration\r\n",
    "The cleaned data will be explored by using the following steps:\r\n",
    "1. df.head(): To show the first 5 rows of the Dataframe.\r\n",
    "2. df.info(): To show the quick overview of the dataset, which contain information about the index, column, non-null values and dtype of the dataframe\r\n",
    "3. df.shape: To show the number of dimensions as well as the size in each dimension of the dataframe.\r\n",
    "4. df.describe( ): To show the statistical summary for numerical columns present in the dataframe."
   ],
   "metadata": {}
  },
  {
   "cell_type": "code",
   "execution_count": 4,
   "source": [
    "kickstarter.head()"
   ],
   "outputs": [
    {
     "output_type": "execute_result",
     "data": {
      "text/plain": [
       "                                                name        category  \\\n",
       "0                    The Songs of Adelaide & Abullah          Poetry   \n",
       "1      Greeting From Earth: ZGAC Arts Capsule For ET  Narrative Film   \n",
       "2                                     Where is Hank?  Narrative Film   \n",
       "3  ToshiCapital Rekordz Needs Help to Complete Album           Music   \n",
       "4  Community Film Project: The Art of Neighborhoo...    Film & Video   \n",
       "\n",
       "  main_category currency    deadline      goal             launched  pledged  \\\n",
       "0    Publishing      GBP  2015-10-09  1000.000  2015-08-11 12:12:28    0.000   \n",
       "1  Film & Video      USD  2017-11-01 30000.000  2017-09-02 04:43:57 2421.000   \n",
       "2  Film & Video      USD  2013-02-26 45000.000  2013-01-12 00:20:50  220.000   \n",
       "3         Music      USD  2012-04-16  5000.000  2012-03-17 03:24:11    1.000   \n",
       "4  Film & Video      USD  2015-08-29 19500.000  2015-07-04 08:35:03 1283.000   \n",
       "\n",
       "      state  backers country  usd pledged  usd_pledged_real  usd_goal_real  \n",
       "0    failed        0      GB        0.000             0.000       1533.950  \n",
       "1    failed       15      US      100.000          2421.000      30000.000  \n",
       "2    failed        3      US      220.000           220.000      45000.000  \n",
       "3    failed        1      US        1.000             1.000       5000.000  \n",
       "4  canceled       14      US     1283.000          1283.000      19500.000  "
      ],
      "text/html": [
       "<div>\n",
       "<style scoped>\n",
       "    .dataframe tbody tr th:only-of-type {\n",
       "        vertical-align: middle;\n",
       "    }\n",
       "\n",
       "    .dataframe tbody tr th {\n",
       "        vertical-align: top;\n",
       "    }\n",
       "\n",
       "    .dataframe thead th {\n",
       "        text-align: right;\n",
       "    }\n",
       "</style>\n",
       "<table border=\"1\" class=\"dataframe\">\n",
       "  <thead>\n",
       "    <tr style=\"text-align: right;\">\n",
       "      <th></th>\n",
       "      <th>name</th>\n",
       "      <th>category</th>\n",
       "      <th>main_category</th>\n",
       "      <th>currency</th>\n",
       "      <th>deadline</th>\n",
       "      <th>goal</th>\n",
       "      <th>launched</th>\n",
       "      <th>pledged</th>\n",
       "      <th>state</th>\n",
       "      <th>backers</th>\n",
       "      <th>country</th>\n",
       "      <th>usd pledged</th>\n",
       "      <th>usd_pledged_real</th>\n",
       "      <th>usd_goal_real</th>\n",
       "    </tr>\n",
       "  </thead>\n",
       "  <tbody>\n",
       "    <tr>\n",
       "      <th>0</th>\n",
       "      <td>The Songs of Adelaide &amp; Abullah</td>\n",
       "      <td>Poetry</td>\n",
       "      <td>Publishing</td>\n",
       "      <td>GBP</td>\n",
       "      <td>2015-10-09</td>\n",
       "      <td>1000.000</td>\n",
       "      <td>2015-08-11 12:12:28</td>\n",
       "      <td>0.000</td>\n",
       "      <td>failed</td>\n",
       "      <td>0</td>\n",
       "      <td>GB</td>\n",
       "      <td>0.000</td>\n",
       "      <td>0.000</td>\n",
       "      <td>1533.950</td>\n",
       "    </tr>\n",
       "    <tr>\n",
       "      <th>1</th>\n",
       "      <td>Greeting From Earth: ZGAC Arts Capsule For ET</td>\n",
       "      <td>Narrative Film</td>\n",
       "      <td>Film &amp; Video</td>\n",
       "      <td>USD</td>\n",
       "      <td>2017-11-01</td>\n",
       "      <td>30000.000</td>\n",
       "      <td>2017-09-02 04:43:57</td>\n",
       "      <td>2421.000</td>\n",
       "      <td>failed</td>\n",
       "      <td>15</td>\n",
       "      <td>US</td>\n",
       "      <td>100.000</td>\n",
       "      <td>2421.000</td>\n",
       "      <td>30000.000</td>\n",
       "    </tr>\n",
       "    <tr>\n",
       "      <th>2</th>\n",
       "      <td>Where is Hank?</td>\n",
       "      <td>Narrative Film</td>\n",
       "      <td>Film &amp; Video</td>\n",
       "      <td>USD</td>\n",
       "      <td>2013-02-26</td>\n",
       "      <td>45000.000</td>\n",
       "      <td>2013-01-12 00:20:50</td>\n",
       "      <td>220.000</td>\n",
       "      <td>failed</td>\n",
       "      <td>3</td>\n",
       "      <td>US</td>\n",
       "      <td>220.000</td>\n",
       "      <td>220.000</td>\n",
       "      <td>45000.000</td>\n",
       "    </tr>\n",
       "    <tr>\n",
       "      <th>3</th>\n",
       "      <td>ToshiCapital Rekordz Needs Help to Complete Album</td>\n",
       "      <td>Music</td>\n",
       "      <td>Music</td>\n",
       "      <td>USD</td>\n",
       "      <td>2012-04-16</td>\n",
       "      <td>5000.000</td>\n",
       "      <td>2012-03-17 03:24:11</td>\n",
       "      <td>1.000</td>\n",
       "      <td>failed</td>\n",
       "      <td>1</td>\n",
       "      <td>US</td>\n",
       "      <td>1.000</td>\n",
       "      <td>1.000</td>\n",
       "      <td>5000.000</td>\n",
       "    </tr>\n",
       "    <tr>\n",
       "      <th>4</th>\n",
       "      <td>Community Film Project: The Art of Neighborhoo...</td>\n",
       "      <td>Film &amp; Video</td>\n",
       "      <td>Film &amp; Video</td>\n",
       "      <td>USD</td>\n",
       "      <td>2015-08-29</td>\n",
       "      <td>19500.000</td>\n",
       "      <td>2015-07-04 08:35:03</td>\n",
       "      <td>1283.000</td>\n",
       "      <td>canceled</td>\n",
       "      <td>14</td>\n",
       "      <td>US</td>\n",
       "      <td>1283.000</td>\n",
       "      <td>1283.000</td>\n",
       "      <td>19500.000</td>\n",
       "    </tr>\n",
       "  </tbody>\n",
       "</table>\n",
       "</div>"
      ]
     },
     "metadata": {},
     "execution_count": 4
    }
   ],
   "metadata": {}
  },
  {
   "cell_type": "code",
   "execution_count": 5,
   "source": [
    "kickstarter.info()"
   ],
   "outputs": [
    {
     "output_type": "stream",
     "name": "stdout",
     "text": [
      "<class 'pandas.core.frame.DataFrame'>\n",
      "Int64Index: 374860 entries, 0 to 378660\n",
      "Data columns (total 14 columns):\n",
      " #   Column            Non-Null Count   Dtype  \n",
      "---  ------            --------------   -----  \n",
      " 0   name              374860 non-null  object \n",
      " 1   category          374860 non-null  object \n",
      " 2   main_category     374860 non-null  object \n",
      " 3   currency          374860 non-null  object \n",
      " 4   deadline          374860 non-null  object \n",
      " 5   goal              374860 non-null  float64\n",
      " 6   launched          374860 non-null  object \n",
      " 7   pledged           374860 non-null  float64\n",
      " 8   state             374860 non-null  object \n",
      " 9   backers           374860 non-null  int64  \n",
      " 10  country           374860 non-null  object \n",
      " 11  usd pledged       374860 non-null  float64\n",
      " 12  usd_pledged_real  374860 non-null  float64\n",
      " 13  usd_goal_real     374860 non-null  float64\n",
      "dtypes: float64(5), int64(1), object(8)\n",
      "memory usage: 42.9+ MB\n"
     ]
    }
   ],
   "metadata": {}
  },
  {
   "cell_type": "code",
   "execution_count": 6,
   "source": [
    "kickstarter.shape"
   ],
   "outputs": [
    {
     "output_type": "execute_result",
     "data": {
      "text/plain": [
       "(374860, 14)"
      ]
     },
     "metadata": {},
     "execution_count": 6
    }
   ],
   "metadata": {}
  },
  {
   "cell_type": "code",
   "execution_count": 7,
   "source": [
    "kickstarter.describe()"
   ],
   "outputs": [
    {
     "output_type": "execute_result",
     "data": {
      "text/plain": [
       "               goal      pledged    backers  usd pledged  usd_pledged_real  \\\n",
       "count    374860.000   374860.000 374860.000   374860.000        374860.000   \n",
       "mean      49522.989     9750.538    106.688     7036.802          9120.899   \n",
       "std     1189361.601    96010.938    911.710    78640.162         91319.694   \n",
       "min           0.010        0.000      0.000        0.000             0.000   \n",
       "25%        2000.000       31.000      2.000       16.980            31.000   \n",
       "50%        5500.000      620.000     12.000      394.765           624.495   \n",
       "75%       16500.000     4080.000     57.000     3034.425          4050.895   \n",
       "max   100000000.000 20338986.270 219382.000 20338986.270      20338986.270   \n",
       "\n",
       "       usd_goal_real  \n",
       "count     374860.000  \n",
       "mean       45863.026  \n",
       "std      1158767.373  \n",
       "min            0.010  \n",
       "25%         2000.000  \n",
       "50%         5500.000  \n",
       "75%        16000.000  \n",
       "max    166361390.710  "
      ],
      "text/html": [
       "<div>\n",
       "<style scoped>\n",
       "    .dataframe tbody tr th:only-of-type {\n",
       "        vertical-align: middle;\n",
       "    }\n",
       "\n",
       "    .dataframe tbody tr th {\n",
       "        vertical-align: top;\n",
       "    }\n",
       "\n",
       "    .dataframe thead th {\n",
       "        text-align: right;\n",
       "    }\n",
       "</style>\n",
       "<table border=\"1\" class=\"dataframe\">\n",
       "  <thead>\n",
       "    <tr style=\"text-align: right;\">\n",
       "      <th></th>\n",
       "      <th>goal</th>\n",
       "      <th>pledged</th>\n",
       "      <th>backers</th>\n",
       "      <th>usd pledged</th>\n",
       "      <th>usd_pledged_real</th>\n",
       "      <th>usd_goal_real</th>\n",
       "    </tr>\n",
       "  </thead>\n",
       "  <tbody>\n",
       "    <tr>\n",
       "      <th>count</th>\n",
       "      <td>374860.000</td>\n",
       "      <td>374860.000</td>\n",
       "      <td>374860.000</td>\n",
       "      <td>374860.000</td>\n",
       "      <td>374860.000</td>\n",
       "      <td>374860.000</td>\n",
       "    </tr>\n",
       "    <tr>\n",
       "      <th>mean</th>\n",
       "      <td>49522.989</td>\n",
       "      <td>9750.538</td>\n",
       "      <td>106.688</td>\n",
       "      <td>7036.802</td>\n",
       "      <td>9120.899</td>\n",
       "      <td>45863.026</td>\n",
       "    </tr>\n",
       "    <tr>\n",
       "      <th>std</th>\n",
       "      <td>1189361.601</td>\n",
       "      <td>96010.938</td>\n",
       "      <td>911.710</td>\n",
       "      <td>78640.162</td>\n",
       "      <td>91319.694</td>\n",
       "      <td>1158767.373</td>\n",
       "    </tr>\n",
       "    <tr>\n",
       "      <th>min</th>\n",
       "      <td>0.010</td>\n",
       "      <td>0.000</td>\n",
       "      <td>0.000</td>\n",
       "      <td>0.000</td>\n",
       "      <td>0.000</td>\n",
       "      <td>0.010</td>\n",
       "    </tr>\n",
       "    <tr>\n",
       "      <th>25%</th>\n",
       "      <td>2000.000</td>\n",
       "      <td>31.000</td>\n",
       "      <td>2.000</td>\n",
       "      <td>16.980</td>\n",
       "      <td>31.000</td>\n",
       "      <td>2000.000</td>\n",
       "    </tr>\n",
       "    <tr>\n",
       "      <th>50%</th>\n",
       "      <td>5500.000</td>\n",
       "      <td>620.000</td>\n",
       "      <td>12.000</td>\n",
       "      <td>394.765</td>\n",
       "      <td>624.495</td>\n",
       "      <td>5500.000</td>\n",
       "    </tr>\n",
       "    <tr>\n",
       "      <th>75%</th>\n",
       "      <td>16500.000</td>\n",
       "      <td>4080.000</td>\n",
       "      <td>57.000</td>\n",
       "      <td>3034.425</td>\n",
       "      <td>4050.895</td>\n",
       "      <td>16000.000</td>\n",
       "    </tr>\n",
       "    <tr>\n",
       "      <th>max</th>\n",
       "      <td>100000000.000</td>\n",
       "      <td>20338986.270</td>\n",
       "      <td>219382.000</td>\n",
       "      <td>20338986.270</td>\n",
       "      <td>20338986.270</td>\n",
       "      <td>166361390.710</td>\n",
       "    </tr>\n",
       "  </tbody>\n",
       "</table>\n",
       "</div>"
      ]
     },
     "metadata": {},
     "execution_count": 7
    }
   ],
   "metadata": {}
  },
  {
   "cell_type": "markdown",
   "source": [
    "## vi. Measure of Central Tendency\r\n",
    "A measure of central tendency is a summary statistic that represents the center point or typical value of a dataset. There are three main measures of central tendency:\r\n",
    "1. Mean : the sum of the value of each observation in a dataset divided by the number of observations\r\n",
    "2. Mode : the most commonly occurring value in a distribution\r\n",
    "3. Median : the middle value in distribution when the values are arranged in ascending or descending order"
   ],
   "metadata": {}
  },
  {
   "cell_type": "code",
   "execution_count": 8,
   "source": [
    "#The process of calculating the mean of a dataset\r\n",
    "kickstarter[kickstarter.describe().columns].mean()"
   ],
   "outputs": [
    {
     "output_type": "execute_result",
     "data": {
      "text/plain": [
       "goal               49522.989\n",
       "pledged             9750.538\n",
       "backers              106.688\n",
       "usd pledged         7036.802\n",
       "usd_pledged_real    9120.899\n",
       "usd_goal_real      45863.026\n",
       "dtype: float64"
      ]
     },
     "metadata": {},
     "execution_count": 8
    }
   ],
   "metadata": {}
  },
  {
   "cell_type": "code",
   "execution_count": 9,
   "source": [
    "#The process of calculating the mode of a dataset\r\n",
    "kickstarter[kickstarter.describe().columns].mode()"
   ],
   "outputs": [
    {
     "output_type": "execute_result",
     "data": {
      "text/plain": [
       "      goal  pledged  backers  usd pledged  usd_pledged_real  usd_goal_real\n",
       "0 5000.000    0.000        0        0.000             0.000       5000.000"
      ],
      "text/html": [
       "<div>\n",
       "<style scoped>\n",
       "    .dataframe tbody tr th:only-of-type {\n",
       "        vertical-align: middle;\n",
       "    }\n",
       "\n",
       "    .dataframe tbody tr th {\n",
       "        vertical-align: top;\n",
       "    }\n",
       "\n",
       "    .dataframe thead th {\n",
       "        text-align: right;\n",
       "    }\n",
       "</style>\n",
       "<table border=\"1\" class=\"dataframe\">\n",
       "  <thead>\n",
       "    <tr style=\"text-align: right;\">\n",
       "      <th></th>\n",
       "      <th>goal</th>\n",
       "      <th>pledged</th>\n",
       "      <th>backers</th>\n",
       "      <th>usd pledged</th>\n",
       "      <th>usd_pledged_real</th>\n",
       "      <th>usd_goal_real</th>\n",
       "    </tr>\n",
       "  </thead>\n",
       "  <tbody>\n",
       "    <tr>\n",
       "      <th>0</th>\n",
       "      <td>5000.000</td>\n",
       "      <td>0.000</td>\n",
       "      <td>0</td>\n",
       "      <td>0.000</td>\n",
       "      <td>0.000</td>\n",
       "      <td>5000.000</td>\n",
       "    </tr>\n",
       "  </tbody>\n",
       "</table>\n",
       "</div>"
      ]
     },
     "metadata": {},
     "execution_count": 9
    }
   ],
   "metadata": {}
  },
  {
   "cell_type": "code",
   "execution_count": 10,
   "source": [
    "#The process of calculating the median of a dataset\r\n",
    "kickstarter[kickstarter.describe().columns].median()"
   ],
   "outputs": [
    {
     "output_type": "execute_result",
     "data": {
      "text/plain": [
       "goal               5500.000\n",
       "pledged             620.000\n",
       "backers              12.000\n",
       "usd pledged         394.765\n",
       "usd_pledged_real    624.495\n",
       "usd_goal_real      5500.000\n",
       "dtype: float64"
      ]
     },
     "metadata": {},
     "execution_count": 10
    }
   ],
   "metadata": {}
  },
  {
   "cell_type": "markdown",
   "source": [
    "## vii. Measure of Variance\r\n",
    "A measure of variability is a summary statistic that represents the amount of dispersion in a dataset. There are 4 most commonly used measurement of variability:\r\n",
    "1. Range: the difference between the highest and lowest values of a dataset\r\n",
    "2. Variance: the average squared difference of the values from the mean\r\n",
    "3. Standard Deviation :  the standard or typical difference between each data point and the mean\r\n",
    "4. Interquartile Range : the range of the middle half of a distribution"
   ],
   "metadata": {}
  },
  {
   "cell_type": "code",
   "execution_count": 11,
   "source": [
    "# The process of calculating the range of a dataset\r\n",
    "num_columns = kickstarter.describe().columns\r\n",
    "print(kickstarter[num_columns].max()-kickstarter[num_columns].min())"
   ],
   "outputs": [
    {
     "output_type": "stream",
     "name": "stdout",
     "text": [
      "goal                99999999.990\n",
      "pledged             20338986.270\n",
      "backers               219382.000\n",
      "usd pledged         20338986.270\n",
      "usd_pledged_real    20338986.270\n",
      "usd_goal_real      166361390.700\n",
      "dtype: float64\n"
     ]
    }
   ],
   "metadata": {}
  },
  {
   "cell_type": "code",
   "execution_count": 12,
   "source": [
    "# The process of calculating the variance of a dataset\r\n",
    "kickstarter.var()\r\n"
   ],
   "outputs": [
    {
     "output_type": "execute_result",
     "data": {
      "text/plain": [
       "goal               1414581018455.966\n",
       "pledged               9218100120.712\n",
       "backers                   831215.351\n",
       "usd pledged           6184275027.015\n",
       "usd_pledged_real      8339286590.889\n",
       "usd_goal_real      1342741824113.891\n",
       "dtype: float64"
      ]
     },
     "metadata": {},
     "execution_count": 12
    }
   ],
   "metadata": {}
  },
  {
   "cell_type": "code",
   "execution_count": 13,
   "source": [
    "# The process of calculating the standard deviation of a dataset\r\n",
    "kickstarter.std()"
   ],
   "outputs": [
    {
     "output_type": "execute_result",
     "data": {
      "text/plain": [
       "goal               1189361.601\n",
       "pledged              96010.938\n",
       "backers                911.710\n",
       "usd pledged          78640.162\n",
       "usd_pledged_real     91319.694\n",
       "usd_goal_real      1158767.373\n",
       "dtype: float64"
      ]
     },
     "metadata": {},
     "execution_count": 13
    }
   ],
   "metadata": {}
  },
  {
   "cell_type": "code",
   "execution_count": 14,
   "source": [
    "#The process of calculating Interquartile Range (IQR) of a dataset\r\n",
    "IQR = kickstarter[num_columns].quantile(0.75) - kickstarter[num_columns].quantile(0.25)\r\n",
    "IQR"
   ],
   "outputs": [
    {
     "output_type": "execute_result",
     "data": {
      "text/plain": [
       "goal               14500.000\n",
       "pledged             4049.000\n",
       "backers               55.000\n",
       "usd pledged         3017.445\n",
       "usd_pledged_real    4019.895\n",
       "usd_goal_real      14000.000\n",
       "dtype: float64"
      ]
     },
     "metadata": {},
     "execution_count": 14
    }
   ],
   "metadata": {}
  },
  {
   "cell_type": "markdown",
   "source": [
    "## Confidence Interval\r\n",
    "Confidence Interval calculation for the Pledged variable using sample with (n) is 1000 "
   ],
   "metadata": {}
  },
  {
   "cell_type": "code",
   "execution_count": 15,
   "source": [
    "sample_pledged=kickstarter['pledged'].sample(n=1000)\r\n"
   ],
   "outputs": [],
   "metadata": {}
  },
  {
   "cell_type": "code",
   "execution_count": 16,
   "source": [
    "sample_pledged.mean()"
   ],
   "outputs": [
    {
     "output_type": "execute_result",
     "data": {
      "text/plain": [
       "8272.713049999998"
      ]
     },
     "metadata": {},
     "execution_count": 16
    }
   ],
   "metadata": {}
  },
  {
   "cell_type": "code",
   "execution_count": 17,
   "source": [
    "C1,C2 = stats.norm.interval(alpha=0.95, loc=np.mean(sample_pledged), scale=stats.sem(sample_pledged)) \r\n",
    "print (C1)\r\n",
    "print (C2)"
   ],
   "outputs": [
    {
     "output_type": "stream",
     "name": "stdout",
     "text": [
      "4700.091487256059\n",
      "11845.334612743938\n"
     ]
    }
   ],
   "metadata": {}
  },
  {
   "cell_type": "markdown",
   "source": [
    "There is a 95% chance that the confidence interval of [5.210, 14.973] contains the true population mean."
   ],
   "metadata": {}
  },
  {
   "cell_type": "markdown",
   "source": [
    "## viii. Hypothesis Testing\r\n",
    "In this project, we will test the relationship between main_category and state of the kickstarter project\r\n",
    "Thus we define that:\r\n",
    "1. H0 : No relationship between main category and state\r\n",
    "2. H1 : Exist relationship between main category and state\r\n",
    "\r\n",
    "We will use the chi square test for the hypothesis testing"
   ],
   "metadata": {}
  },
  {
   "cell_type": "code",
   "execution_count": 18,
   "source": [
    "kick_group = kickstarter.groupby(['main_category','state']).count()[['goal','pledged']].reset_index()"
   ],
   "outputs": [],
   "metadata": {}
  },
  {
   "cell_type": "code",
   "execution_count": 19,
   "source": [
    "kicks_status=kick_group.pivot(index=\"main_category\",columns=\"state\", values=\"pledged\").fillna(0)\r\n",
    "kicks_status.head(16)"
   ],
   "outputs": [
    {
     "output_type": "execute_result",
     "data": {
      "text/plain": [
       "state          canceled  failed  live  successful  suspended\n",
       "main_category                                               \n",
       "Art                2222   14130   194       11510         96\n",
       "Comics              842    4036    76        5842         23\n",
       "Crafts              843    5703    76        2115         72\n",
       "Dance               163    1235    18        2338         13\n",
       "Design             4152   14814   305       10549        246\n",
       "Fashion            2650   14181   250        5593        138\n",
       "Film & Video       5744   32891   332       23612        117\n",
       "Food               2209   15969   183        6085        153\n",
       "Games              6199   16002   287       12518        219\n",
       "Journalism          523    3136    31        1012         52\n",
       "Music              3300   21696   281       24105        148\n",
       "Photography         986    6384    48        3305         55\n",
       "Publishing         3601   23113   299       12300         66\n",
       "Technology         4715   20613   377        6433        424\n",
       "Theater             608    3708    41        6534         21"
      ],
      "text/html": [
       "<div>\n",
       "<style scoped>\n",
       "    .dataframe tbody tr th:only-of-type {\n",
       "        vertical-align: middle;\n",
       "    }\n",
       "\n",
       "    .dataframe tbody tr th {\n",
       "        vertical-align: top;\n",
       "    }\n",
       "\n",
       "    .dataframe thead th {\n",
       "        text-align: right;\n",
       "    }\n",
       "</style>\n",
       "<table border=\"1\" class=\"dataframe\">\n",
       "  <thead>\n",
       "    <tr style=\"text-align: right;\">\n",
       "      <th>state</th>\n",
       "      <th>canceled</th>\n",
       "      <th>failed</th>\n",
       "      <th>live</th>\n",
       "      <th>successful</th>\n",
       "      <th>suspended</th>\n",
       "    </tr>\n",
       "    <tr>\n",
       "      <th>main_category</th>\n",
       "      <th></th>\n",
       "      <th></th>\n",
       "      <th></th>\n",
       "      <th></th>\n",
       "      <th></th>\n",
       "    </tr>\n",
       "  </thead>\n",
       "  <tbody>\n",
       "    <tr>\n",
       "      <th>Art</th>\n",
       "      <td>2222</td>\n",
       "      <td>14130</td>\n",
       "      <td>194</td>\n",
       "      <td>11510</td>\n",
       "      <td>96</td>\n",
       "    </tr>\n",
       "    <tr>\n",
       "      <th>Comics</th>\n",
       "      <td>842</td>\n",
       "      <td>4036</td>\n",
       "      <td>76</td>\n",
       "      <td>5842</td>\n",
       "      <td>23</td>\n",
       "    </tr>\n",
       "    <tr>\n",
       "      <th>Crafts</th>\n",
       "      <td>843</td>\n",
       "      <td>5703</td>\n",
       "      <td>76</td>\n",
       "      <td>2115</td>\n",
       "      <td>72</td>\n",
       "    </tr>\n",
       "    <tr>\n",
       "      <th>Dance</th>\n",
       "      <td>163</td>\n",
       "      <td>1235</td>\n",
       "      <td>18</td>\n",
       "      <td>2338</td>\n",
       "      <td>13</td>\n",
       "    </tr>\n",
       "    <tr>\n",
       "      <th>Design</th>\n",
       "      <td>4152</td>\n",
       "      <td>14814</td>\n",
       "      <td>305</td>\n",
       "      <td>10549</td>\n",
       "      <td>246</td>\n",
       "    </tr>\n",
       "    <tr>\n",
       "      <th>Fashion</th>\n",
       "      <td>2650</td>\n",
       "      <td>14181</td>\n",
       "      <td>250</td>\n",
       "      <td>5593</td>\n",
       "      <td>138</td>\n",
       "    </tr>\n",
       "    <tr>\n",
       "      <th>Film &amp; Video</th>\n",
       "      <td>5744</td>\n",
       "      <td>32891</td>\n",
       "      <td>332</td>\n",
       "      <td>23612</td>\n",
       "      <td>117</td>\n",
       "    </tr>\n",
       "    <tr>\n",
       "      <th>Food</th>\n",
       "      <td>2209</td>\n",
       "      <td>15969</td>\n",
       "      <td>183</td>\n",
       "      <td>6085</td>\n",
       "      <td>153</td>\n",
       "    </tr>\n",
       "    <tr>\n",
       "      <th>Games</th>\n",
       "      <td>6199</td>\n",
       "      <td>16002</td>\n",
       "      <td>287</td>\n",
       "      <td>12518</td>\n",
       "      <td>219</td>\n",
       "    </tr>\n",
       "    <tr>\n",
       "      <th>Journalism</th>\n",
       "      <td>523</td>\n",
       "      <td>3136</td>\n",
       "      <td>31</td>\n",
       "      <td>1012</td>\n",
       "      <td>52</td>\n",
       "    </tr>\n",
       "    <tr>\n",
       "      <th>Music</th>\n",
       "      <td>3300</td>\n",
       "      <td>21696</td>\n",
       "      <td>281</td>\n",
       "      <td>24105</td>\n",
       "      <td>148</td>\n",
       "    </tr>\n",
       "    <tr>\n",
       "      <th>Photography</th>\n",
       "      <td>986</td>\n",
       "      <td>6384</td>\n",
       "      <td>48</td>\n",
       "      <td>3305</td>\n",
       "      <td>55</td>\n",
       "    </tr>\n",
       "    <tr>\n",
       "      <th>Publishing</th>\n",
       "      <td>3601</td>\n",
       "      <td>23113</td>\n",
       "      <td>299</td>\n",
       "      <td>12300</td>\n",
       "      <td>66</td>\n",
       "    </tr>\n",
       "    <tr>\n",
       "      <th>Technology</th>\n",
       "      <td>4715</td>\n",
       "      <td>20613</td>\n",
       "      <td>377</td>\n",
       "      <td>6433</td>\n",
       "      <td>424</td>\n",
       "    </tr>\n",
       "    <tr>\n",
       "      <th>Theater</th>\n",
       "      <td>608</td>\n",
       "      <td>3708</td>\n",
       "      <td>41</td>\n",
       "      <td>6534</td>\n",
       "      <td>21</td>\n",
       "    </tr>\n",
       "  </tbody>\n",
       "</table>\n",
       "</div>"
      ]
     },
     "metadata": {},
     "execution_count": 19
    }
   ],
   "metadata": {}
  },
  {
   "cell_type": "code",
   "execution_count": 20,
   "source": [
    "chisq, pvalue, df, expected = stats.chi2_contingency(kicks_status)\r\n",
    "print(f'Observed chi2: {chisq:.2f}')\r\n",
    "print(f'p-value: {pvalue:.4f}')"
   ],
   "outputs": [
    {
     "output_type": "stream",
     "name": "stdout",
     "text": [
      "Observed chi2: 21526.47\n",
      "p-value: 0.0000\n"
     ]
    }
   ],
   "metadata": {}
  },
  {
   "cell_type": "markdown",
   "source": [
    "From the chi square test, we can see that the chi value is 30118.71 with the p value of 0.0000 </br>\r\n",
    "Since the p value is lower than 0.05, therefore we reject the null hypothesis and conclude that there is relationship between main category variable and state variable"
   ],
   "metadata": {}
  },
  {
   "cell_type": "markdown",
   "source": [
    "## ix. Conclusion\r\n",
    "Inline with the objective to find : </br>\r\n",
    "### 1. Measure of Central Tendency\r\n",
    "    Mean : the sum of the value of each observation in a dataset divided by the number of observations. Calculated using the .mean() function\r\n",
    "    Mode : the most commonly occurring value in a distribution. Calculated using the .mode() function\r\n",
    "    Median : the middle value in distribution when the values are arranged in ascending or descending order. Calculated using the .median() function\r\n",
    "### 2. Measure of Variance\r\n",
    "    Range: the difference between the highest and lowest values of a dataset. Calculated by substracting max() value with the min() value.\r\n",
    "    Variance: the average squared difference of the values from the mean. Calculated using the .var() function\r\n",
    "    Standard Deviation :  the standard or typical difference between each data point and the mean. Calculated using the .std() function\r\n",
    "    Interquartile Range : the range of the middle half of a distribution. Calculated by substracting the 75% quantile with the 25% quantile value\r\n",
    "### 3. Confidence Interval\r\n",
    "    Calculated for the pledged variable using the sample where n = 1000 and alpha = 95%. \r\n",
    "    The results : There is a 95% chance that the confidence interval of [5.210, 14.973] contains the true population mean.\r\n",
    "\r\n",
    "### 4. Hypothesis Testing\r\n",
    "    In this project, we will test the relationship between main_category variable and state variable of the kickstarter project\r\n",
    "    Thus we define that:\r\n",
    "    1. H0 : No relationship between main category and state\r\n",
    "    2. H1 : Exist relationship between main category and state\r\n",
    "    We will use the chi square test for the hypothesis testing\r\n",
    "    From the chi square test, we can see that the chi value is 30118.71 with the p value of 0.0000\r\n",
    "    Since the p value is lower than 0.05, therefore we reject the null hypothesis\r\n",
    "    and conclude that there is relationship between main category variable and state variable"
   ],
   "metadata": {}
  }
 ],
 "metadata": {
  "orig_nbformat": 4,
  "language_info": {
   "name": "python",
   "version": "3.8.8",
   "mimetype": "text/x-python",
   "codemirror_mode": {
    "name": "ipython",
    "version": 3
   },
   "pygments_lexer": "ipython3",
   "nbconvert_exporter": "python",
   "file_extension": ".py"
  },
  "kernelspec": {
   "name": "python3",
   "display_name": "Python 3.8.8 64-bit ('base': conda)"
  },
  "interpreter": {
   "hash": "6f5a3333282cc3cade2967a8d6ad94d5be3d1b19105904835c796cab9a1eb63b"
  }
 },
 "nbformat": 4,
 "nbformat_minor": 2
}